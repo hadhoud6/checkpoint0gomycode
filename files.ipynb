{
  "nbformat": 4,
  "nbformat_minor": 0,
  "metadata": {
    "colab": {
      "name": "files.ipynb",
      "provenance": []
    },
    "kernelspec": {
      "name": "python3",
      "display_name": "Python 3"
    },
    "language_info": {
      "name": "python"
    }
  },
  "cells": [
    {
      "cell_type": "code",
      "metadata": {
        "colab": {
          "base_uri": "https://localhost:8080/"
        },
        "id": "8zjO-R8AynEd",
        "outputId": "aa0ee9f7-cc7e-46de-f14b-c54a059dfa7e"
      },
      "source": [
        "with open (\"python.txt\",'r',encoding = 'utf-8') as f:\n",
        "  print(f.readline())\n",
        "  for line in f:\n",
        "    pass\n",
        "  print(line)  \n",
        "\n",
        "name=input(\"ur text file \")\n",
        "words=0\n",
        "with open (name ,'r',encoding = 'utf-8') as f:\n",
        "  for i in f :\n",
        "    x=i.split()\n",
        "    words+=len(x)\n",
        "  print(words)\n",
        "\n",
        "\n",
        "\n",
        "\n"
      ],
      "execution_count": 39,
      "outputs": [
        {
          "output_type": "stream",
          "text": [
            "What is Python language?                                                \n",
            "\n",
            "Python supports multiple programming paradigms, including object-oriented, imperative and functional programming or procedural styles. It features a dynamic type system and automatic memory management and has a large and comprehensive standard library.The best way we learn anything is by practice and exercise questions. We  have started this section for those (beginner to intermediate) who are familiar with Python.\n",
            "ur text file python.txt\n",
            "100\n"
          ],
          "name": "stdout"
        }
      ]
    },
    {
      "cell_type": "code",
      "metadata": {
        "id": "geFYaqLu5MFZ"
      },
      "source": [
        ""
      ],
      "execution_count": null,
      "outputs": []
    }
  ]
}