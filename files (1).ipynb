{
  "nbformat": 4,
  "nbformat_minor": 0,
  "metadata": {
    "colab": {
      "name": "files.ipynb",
      "provenance": []
    },
    "kernelspec": {
      "name": "python3",
      "display_name": "Python 3"
    },
    "language_info": {
      "name": "python"
    }
  },
  "cells": [
    {
      "cell_type": "code",
      "metadata": {
        "colab": {
          "base_uri": "https://localhost:8080/"
        },
        "id": "8zjO-R8AynEd",
        "outputId": "1d3218ab-f428-4805-ce44-0dcb3afad873"
      },
      "source": [
        "with open (\"python.txt\",'r',encoding = 'utf-8') as f:\n",
        "  # READ FIRST LINES N \n",
        "  print(f.readlines(1),f.readlines(2))\n",
        "  # READ THE LAST LINES N\n",
        "  print(f.readlines(-1)) \n",
        "  # affiche the numbers of words\n",
        "  files=open(\"python.txt\",\"rt\")\n",
        "  data = files.read()\n",
        "  words = data.split()\n",
        "  print('Number of words :', len(words))\n",
        "\n",
        "\n",
        "\n",
        "\n",
        "\n",
        "\n",
        "\n",
        "\n",
        "\n",
        "\n"
      ],
      "execution_count": null,
      "outputs": [
        {
          "output_type": "stream",
          "text": [
            "['What is Python language?                                                \\n'] ['Python is a widely used high-level, general-purpose, interpreted, dynamic programming language.Its design philosophy emphasizes code readability, and its syntax allows programmers to express concepts in fewer lines of code than possible in \\n']\n",
            "['languages such as C++ or Java. \\n', 'Python supports multiple programming paradigms, including object-oriented, imperative and functional programming or procedural styles. It features a dynamic type system and automatic memory management and has a large and comprehensive standard library.The best way we learn anything is by practice and exercise questions. We  have started this section for those (beginner to intermediate) who are familiar with Python.']\n",
            "Number of words : 100\n"
          ],
          "name": "stdout"
        }
      ]
    }
  ]
}