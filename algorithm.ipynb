{
  "nbformat": 4,
  "nbformat_minor": 0,
  "metadata": {
    "colab": {
      "name": "algorithm.ipynb",
      "provenance": []
    },
    "kernelspec": {
      "name": "python3",
      "display_name": "Python 3"
    },
    "language_info": {
      "name": "python"
    }
  },
  "cells": [
    {
      "cell_type": "code",
      "metadata": {
        "colab": {
          "base_uri": "https://localhost:8080/"
        },
        "id": "IygvtD5FGV8J",
        "outputId": "1250ecb5-87df-43e0-f2c6-293d49e6e240"
      },
      "source": [
        "# Q 1\n",
        "def binary_search(list1, first, last, x):\n",
        "\n",
        "\n",
        "\n",
        "\tif last >= first:\n",
        "    \n",
        "\t\tmid = (last + first) // 2\n",
        "\n",
        "\t\tif list1[mid] == x:\n",
        "\t\t\treturn True\n",
        "\n",
        "\t\telif list1[mid] > x:\n",
        "\t\t\treturn binary_search(list1, first, mid - 1, x)\n",
        "\n",
        "\t\telse:\n",
        "\t\t\treturn binary_search(list1, mid + 1, last, x)\n",
        "\n",
        "\telse:\n",
        "\t\treturn False\n",
        "\n",
        "list1 = [ 2, 3, 4, 10, 40 ]\n",
        "\n",
        "binary_search(list1, 0, len(list1)-1, 10)\n",
        "\n",
        "\n"
      ],
      "execution_count": 94,
      "outputs": [
        {
          "output_type": "execute_result",
          "data": {
            "text/plain": [
              "True"
            ]
          },
          "metadata": {
            "tags": []
          },
          "execution_count": 94
        }
      ]
    },
    {
      "cell_type": "code",
      "metadata": {
        "colab": {
          "base_uri": "https://localhost:8080/"
        },
        "id": "8N48V6KrmCNa",
        "outputId": "e34a3a08-8608-4e4f-e1fd-1751e8f09228"
      },
      "source": [
        "# Q 2\n",
        "def power(a,x):\n",
        "  if a==0 or x==0:\n",
        "    return 1\n",
        "  else:\n",
        "    return a**x\n",
        "\n",
        "\n",
        "power(3,4)"
      ],
      "execution_count": null,
      "outputs": [
        {
          "output_type": "execute_result",
          "data": {
            "text/plain": [
              "81"
            ]
          },
          "metadata": {
            "tags": []
          },
          "execution_count": 44
        }
      ]
    },
    {
      "cell_type": "code",
      "metadata": {
        "colab": {
          "base_uri": "https://localhost:8080/"
        },
        "id": "zJmVEC8IdziH",
        "outputId": "887ac67e-f6ef-41fb-ea2d-8176dbe4919d"
      },
      "source": [
        " #  Q 3\n",
        "def buble(list1):\n",
        "  l=len(list1)\n",
        "  for i in range(l):\n",
        "    for j in range(0,i) :\n",
        "      if list1[j]>list1[j+1]:\n",
        "        list1[j],list1[j+1]=list1[j+1],list1[j]\n",
        "\n",
        "\n",
        "list1=[29,13,22,37,52,49,46,71,56]\n",
        "buble(list1)\n",
        "for i in range(len(list1)):\n",
        "  print(list1[i], end =\" \"),\n"
      ],
      "execution_count": null,
      "outputs": [
        {
          "output_type": "stream",
          "text": [
            "13 22 29 37 46 49 52 56 71 "
          ],
          "name": "stdout"
        }
      ]
    },
    {
      "cell_type": "code",
      "metadata": {
        "colab": {
          "base_uri": "https://localhost:8080/"
        },
        "id": "bfeew7gvkbRx",
        "outputId": "9e259c03-4671-40f7-cdce-51e6533076ad"
      },
      "source": [
        "# Q 4 \n",
        "\n",
        "def mergeSort(list1):\n",
        "    if len(list1)>1:\n",
        "        mid = len(list1)//2\n",
        "        left = list1[:mid]\n",
        "        right = list1[mid:]\n",
        "      \n",
        "        i=j=k=0 \n",
        "\n",
        "        while i < len(left) and j < len(right):\n",
        "   \n",
        "            if left[i] < right[j]:\n",
        "                list1[k]=left[i]\n",
        "                i=i+1\n",
        "            else:\n",
        "                list1[k]=right[j]\n",
        "                j=j+1\n",
        "            k=k+1\n",
        "\n",
        "        while i < len(left):\n",
        "            list1[k]=left[i]\n",
        "            i=i+1\n",
        "            k=k+1\n",
        "\n",
        "        while j < len(right):\n",
        "            list1[k]=right[j]\n",
        "            j=j+1\n",
        "            k=k+1\n",
        "\n",
        "list1 = [14,46,43,27,57,41,45,21,70]\n",
        "print(list1)"
      ],
      "execution_count": null,
      "outputs": [
        {
          "output_type": "stream",
          "text": [
            "[14, 46, 43, 27, 57, 41, 45, 21, 70]\n"
          ],
          "name": "stdout"
        }
      ]
    },
    {
      "cell_type": "code",
      "metadata": {
        "id": "uAZ7NQo_P0Zx",
        "colab": {
          "base_uri": "https://localhost:8080/"
        },
        "outputId": "fb2c7e33-18f5-4c02-db45-56a822dec107"
      },
      "source": [
        "# Q 5\n",
        "def quicksort(test):\n",
        "\n",
        "    less = []\n",
        "    equal = []\n",
        "    greater = []\n",
        "\n",
        "\n",
        "   \n",
        "    pivot = array[0]\n",
        "    for x in array:\n",
        "\n",
        "      if x < pivot:\n",
        "      \n",
        "        less.append(x)\n",
        "      elif x == pivot:\n",
        "        equal.append(x)\n",
        "      elif x > pivot:\n",
        "\n",
        "        greater.append(x)\n",
        "\n",
        "    print(sort(less)+equal+sort(greater) )\n",
        "        \n",
        "test=[29,13,22,37,52,49,46,71,56]\n",
        "quicksort(test)        "
      ],
      "execution_count": null,
      "outputs": [
        {
          "output_type": "stream",
          "text": [
            "[1, 3, 4, 5, 6, 7, 12, 15]\n"
          ],
          "name": "stdout"
        }
      ]
    }
  ]
}