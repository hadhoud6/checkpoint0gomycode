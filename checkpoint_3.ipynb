{
  "nbformat": 4,
  "nbformat_minor": 0,
  "metadata": {
    "colab": {
      "name": "checkpoint 3.ipynb",
      "provenance": []
    },
    "kernelspec": {
      "name": "python3",
      "display_name": "Python 3"
    },
    "language_info": {
      "name": "python"
    }
  },
  "cells": [
    {
      "cell_type": "code",
      "metadata": {
        "colab": {
          "base_uri": "https://localhost:8080/"
        },
        "id": "o-wvBuJGW_1S",
        "outputId": "07d7da71-3f8f-486f-be51-7b53a2095330"
      },
      "source": [
        "# Q 1\n",
        "def maxx(a,b,c):\n",
        "  print(max(a,b,c))\n",
        "maxx(5,3,2)  \n"
      ],
      "execution_count": null,
      "outputs": [
        {
          "output_type": "stream",
          "text": [
            "5\n"
          ],
          "name": "stdout"
        }
      ]
    },
    {
      "cell_type": "code",
      "metadata": {
        "colab": {
          "base_uri": "https://localhost:8080/"
        },
        "id": "ICdcRc6HXzag",
        "outputId": "2f63b8e3-859f-4c7c-ab97-602ff36e46ed"
      },
      "source": [
        "# Q 2\n",
        "def calculation(a,b):\n",
        "  n=a+b\n",
        "  n1=a-b\n",
        "  print(n,n1 )\n",
        "calculation(40,10)  "
      ],
      "execution_count": null,
      "outputs": [
        {
          "output_type": "stream",
          "text": [
            "50 30\n"
          ],
          "name": "stdout"
        }
      ]
    },
    {
      "cell_type": "code",
      "metadata": {
        "colab": {
          "base_uri": "https://localhost:8080/"
        },
        "id": "8_TnTjwzZWkV",
        "outputId": "0a73ec11-e905-46a2-c1c9-cbeafe80f588"
      },
      "source": [
        "# Q 3 \n",
        "list1 = [11, 5, 17, 18, 23,4,8,25,157]\n",
        "list2 = []\n",
        "list3= []\n",
        "def sumlist(list1):\n",
        "  s=0\n",
        "  for i in list1:\n",
        "    if i % 2 !=0:\n",
        "      s=s+i\n",
        "      list2=s\n",
        "\n",
        "  print(list2)\n",
        "def multiplyList(List1) :\n",
        "  re=1\n",
        "  for i in list1:\n",
        "    if i % 2 !=0:\n",
        "      re=re*i\n",
        "      list3=re\n",
        "  print(list3)\n",
        "sumlist(list1)\n",
        "multiplyList(list1)\n",
        "\n",
        "\n",
        "\n"
      ],
      "execution_count": null,
      "outputs": [
        {
          "output_type": "stream",
          "text": [
            "238\n",
            "84407125\n"
          ],
          "name": "stdout"
        }
      ]
    },
    {
      "cell_type": "code",
      "metadata": {
        "colab": {
          "base_uri": "https://localhost:8080/"
        },
        "id": "czNEJ8kiiY_q",
        "outputId": "34f312bf-8f6e-40e4-ecbd-e7eedaa721bd"
      },
      "source": [
        "# Q 4 \n",
        "a=input(\"donner votre ph\")\n",
        "n=a.split(\"-\")\n",
        "n.sort()\n",
        "print(n)\n"
      ],
      "execution_count": null,
      "outputs": [
        {
          "output_type": "stream",
          "text": [
            "donner votre phgreen-red-yellow-black-white\n",
            "['black', 'green', 'red', 'white', 'yellow']\n"
          ],
          "name": "stdout"
        }
      ]
    },
    {
      "cell_type": "code",
      "metadata": {
        "id": "hIKbkSNBI70j",
        "colab": {
          "base_uri": "https://localhost:8080/"
        },
        "outputId": "d530c6fa-62cb-4a52-dbfa-d55c11f0d001"
      },
      "source": [
        "# Q 5 :\n",
        "import math\n",
        "def calculation(d):\n",
        "  d=d.split(\",\")\n",
        "  mapobj=list(map(int,d))\n",
        "  l = []\n",
        "  for i in mapobj :\n",
        "    Q = int(math.sqrt(2 * 50 * int(i) / 30))\n",
        "    l.append(Q)\n",
        "  return l\n",
        "\n",
        "print(calculation(\" 100,150,180\"))\n",
        "\n",
        "\n"
      ],
      "execution_count": 61,
      "outputs": [
        {
          "output_type": "stream",
          "text": [
            "[18, 22, 24]\n"
          ],
          "name": "stdout"
        }
      ]
    },
    {
      "cell_type": "code",
      "metadata": {
        "id": "59-IaQtwSsdm"
      },
      "source": [
        ""
      ],
      "execution_count": null,
      "outputs": []
    }
  ]
}