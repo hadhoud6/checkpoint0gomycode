{
  "nbformat": 4,
  "nbformat_minor": 0,
  "metadata": {
    "colab": {
      "name": " countdown timer.ipynb",
      "provenance": []
    },
    "kernelspec": {
      "name": "python3",
      "display_name": "Python 3"
    },
    "language_info": {
      "name": "python"
    }
  },
  "cells": [
    {
      "cell_type": "code",
      "metadata": {
        "colab": {
          "base_uri": "https://localhost:8080/"
        },
        "id": "BM9LfMl1Ug4J",
        "outputId": "1fd57d60-e8a3-4123-8160-ffd2f4e84529"
      },
      "source": [
        "import time\n",
        "def countdown(timee):\n",
        "  while timee:\n",
        "    min,sec=divmod(timee,60)\n",
        "    timeformat='{:02d}:{:02d}'.format(min,sec)\n",
        "    print(timeformat,end = '\\r')\n",
        "    time.sleep(1)\n",
        "    timee-=1\n",
        "  print(\"Fire in the hole\")\n",
        "\n",
        "\n",
        "\n",
        "\n",
        "timee=int(input(\"write ur  countdown timer in second \"))\n",
        "countdown(timee)\n",
        "\n"
      ],
      "execution_count": 19,
      "outputs": [
        {
          "output_type": "stream",
          "text": [
            "write ur  countdown timer in second 10\n",
            "Fire in the hole\n"
          ],
          "name": "stdout"
        }
      ]
    }
  ]
}