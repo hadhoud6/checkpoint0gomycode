{
  "nbformat": 4,
  "nbformat_minor": 0,
  "metadata": {
    "colab": {
      "name": "Checkpoints5.ipynb",
      "provenance": []
    },
    "kernelspec": {
      "name": "python3",
      "display_name": "Python 3"
    },
    "language_info": {
      "name": "python"
    }
  },
  "cells": [
    {
      "cell_type": "code",
      "metadata": {
        "colab": {
          "base_uri": "https://localhost:8080/"
        },
        "id": "yWJl1NP8B-Nc",
        "outputId": "fafb4057-6de6-4301-f5c5-76c781e85129"
      },
      "source": [
        "# Q 1:\n",
        "import numpy as np\n",
        "\n",
        "\n",
        "a = np.array([1, 2, 4, 7, 8])\n",
        "list1=a.tolist()\n",
        "print(list1)\n"
      ],
      "execution_count": null,
      "outputs": [
        {
          "output_type": "stream",
          "text": [
            "[1, 2, 4, 7, 8]\n"
          ],
          "name": "stdout"
        }
      ]
    },
    {
      "cell_type": "code",
      "metadata": {
        "colab": {
          "base_uri": "https://localhost:8080/"
        },
        "id": "eFIIhILRDD4s",
        "outputId": "0374185f-9123-4996-fa71-344bd15c40c0"
      },
      "source": [
        "# Q 2 :\n",
        "import numpy as np\n",
        "a = np.array([[0,1,2],[3,4,5],[6,7,8]])\n",
        "a=a.reshape(3,3)\n",
        "n1=np.trace(a)\n",
        "print(\"this original array : \")\n",
        "print(a,\"and this with trace fonction\",n1)\n",
        "a1=a[0][0]\n",
        "a2=a[1][1]\n",
        "a3=a[2][2]\n",
        "\n",
        "print(\"and with hand : \",a1+a2+a3)\n"
      ],
      "execution_count": null,
      "outputs": [
        {
          "output_type": "stream",
          "text": [
            "this original array : \n",
            "[[0 1 2]\n",
            " [3 4 5]\n",
            " [6 7 8]] and this with trace fonction 12\n",
            "and with hand :  12\n"
          ],
          "name": "stdout"
        }
      ]
    },
    {
      "cell_type": "code",
      "metadata": {
        "colab": {
          "base_uri": "https://localhost:8080/"
        },
        "id": "ja5P2vERFo2x",
        "outputId": "efba2802-e951-4218-c11b-b8f9cfaaa92e"
      },
      "source": [
        "# Q 3\n",
        "import numpy as np\n",
        "a = [[1,2],[3,5]]\n",
        "x=[2]\n",
        "for i in a:\n",
        "  if x<i:\n",
        "    print(\"then\",i,\"are higher than\",x)\n",
        "\n"
      ],
      "execution_count": null,
      "outputs": [
        {
          "output_type": "stream",
          "text": [
            "then [3, 5] are higher than [2]\n"
          ],
          "name": "stdout"
        }
      ]
    },
    {
      "cell_type": "code",
      "metadata": {
        "colab": {
          "base_uri": "https://localhost:8080/"
        },
        "id": "iHjAsMIEcE9n",
        "outputId": "e5d073a0-ddf3-4230-8d1e-21ee3a37297d"
      },
      "source": [
        "# Q 4\n",
        "import numpy as np\n",
        "A=np.array([(1, 2), (3, 4), (5,6)])\n",
        "A.shape\n",
        "B=np.array([(1, 2), (3, 4), (5,6)])\n",
        "B.shape\n",
        "C=A+B\n",
        "print(\"this new array :\")\n",
        "print(C)\n",
        "\n"
      ],
      "execution_count": null,
      "outputs": [
        {
          "output_type": "stream",
          "text": [
            "this new array :\n",
            "[[ 2  4]\n",
            " [ 6  8]\n",
            " [10 12]]\n"
          ],
          "name": "stdout"
        }
      ]
    },
    {
      "cell_type": "code",
      "metadata": {
        "colab": {
          "base_uri": "https://localhost:8080/"
        },
        "id": "YSyzJqLBm5Y6",
        "outputId": "9ab55a66-a4df-46fe-f709-230c88bbaf21"
      },
      "source": [
        "# Q 5 :\n",
        "import numpy as np\n",
        " # now we made  normal matrix\n",
        "arr=np.arange(12).reshape(3,4)\n",
        "print(arr)\n",
        " # use mean fuction ....\n",
        "rowmean = np.mean(arr, axis=1)\n",
        "mean0=rowmean[0]\n",
        "mean1=rowmean[1]\n",
        "mean2=rowmean[2]\n",
        "print(mean0)\n",
        "print(mean1)\n",
        "print(mean2)\n",
        "\n",
        "\n",
        "\n",
        " "
      ],
      "execution_count": 2,
      "outputs": [
        {
          "output_type": "stream",
          "text": [
            "[[ 0  1  2  3]\n",
            " [ 4  5  6  7]\n",
            " [ 8  9 10 11]]\n",
            "1.5\n",
            "5.5\n",
            "9.5\n"
          ],
          "name": "stdout"
        }
      ]
    }
  ]
}