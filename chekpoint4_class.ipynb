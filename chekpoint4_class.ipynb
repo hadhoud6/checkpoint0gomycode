{
  "nbformat": 4,
  "nbformat_minor": 0,
  "metadata": {
    "colab": {
      "name": "chekpoint4 class.ipynb",
      "provenance": []
    },
    "kernelspec": {
      "name": "python3",
      "display_name": "Python 3"
    },
    "language_info": {
      "name": "python"
    }
  },
  "cells": [
    {
      "cell_type": "code",
      "metadata": {
        "id": "UFuwMNQRkJQl",
        "colab": {
          "base_uri": "https://localhost:8080/"
        },
        "outputId": "4e623a54-4621-4682-cebe-f4842b1d0285"
      },
      "source": [
        "# Q 1\n",
        "class point3D:\n",
        "  def __init__(self,x, y ,z):\n",
        "    self.x=x\n",
        "    self.y=y\n",
        "    self.z=z  \n",
        "my_point=point3D(1,2,3)\n",
        "my_point.x,my_point.y,my_point.z\n",
        "\n"
      ],
      "execution_count": null,
      "outputs": [
        {
          "output_type": "execute_result",
          "data": {
            "text/plain": [
              "(1, 2, 3)"
            ]
          },
          "metadata": {
            "tags": []
          },
          "execution_count": 21
        }
      ]
    },
    {
      "cell_type": "code",
      "metadata": {
        "id": "UIEze51CO9Ig"
      },
      "source": [
        ""
      ],
      "execution_count": null,
      "outputs": []
    },
    {
      "cell_type": "code",
      "metadata": {
        "colab": {
          "base_uri": "https://localhost:8080/"
        },
        "id": "SPPUviIW4jsa",
        "outputId": "56c798a1-5f00-4ad6-db98-4ca6570b11e6"
      },
      "source": [
        "# Q 2\n",
        " class Rectangle:\n",
        "   def __init__(self,l,w):\n",
        "\n",
        "      self.l=l\n",
        "      self.w=w\n",
        "   def area(self):\n",
        "\n",
        "     return self.l*self.w\n",
        "     \n",
        "\n",
        "   def  perimeter(self):\n",
        "\n",
        "     return 2*(self.l+self.w)\n",
        "\n",
        "\n",
        "my_rectangle=Rectangle(3,4)\n",
        "my_rectangle.l,my_rectangle.w\n",
        "print(\" the area is expected to be\",my_rectangle.area()),print(\"and perimeter\",my_rectangle.perimeter())\n",
        "\n",
        "     \n",
        "\n"
      ],
      "execution_count": null,
      "outputs": [
        {
          "output_type": "stream",
          "text": [
            " the area is expected to be 12\n",
            "and perimeter 14\n"
          ],
          "name": "stdout"
        },
        {
          "output_type": "execute_result",
          "data": {
            "text/plain": [
              "(None, None)"
            ]
          },
          "metadata": {
            "tags": []
          },
          "execution_count": 20
        }
      ]
    },
    {
      "cell_type": "code",
      "metadata": {
        "id": "21q6dZuy1RrN",
        "colab": {
          "base_uri": "https://localhost:8080/"
        },
        "outputId": "e18b8d6a-fdd6-4231-fcff-d7b0040cc18b"
      },
      "source": [
        "# Q 3\n",
        "import math \n",
        "class Circle:\n",
        "\n",
        "  def __init__(self,O,radius):\n",
        "\n",
        "    self.O=O\n",
        "    self.radius=radius\n",
        "\n",
        "  def area(self):\n",
        "\n",
        "    return (math.pi*self.radius**2)\n",
        "\n",
        "  def   perimeter(self):\n",
        "\n",
        "    return (2*math.pi*self.radius)\n",
        "\n",
        "def isinside(x,y,radius):\n",
        "    if  x**2 + y**2 - radius > 0:\n",
        "      print(\"outside\")\n",
        "    else:\n",
        "        print(\"inside\")\n",
        "\n",
        "\n",
        "     \n",
        "\n",
        "calc=Circle(5,8)\n",
        "print(calc.area())\n",
        "print(calc.perimeter())\n",
        "x, y, radius=0,0,8\n",
        "isinside(x,y,radius)\n",
        "\n"
      ],
      "execution_count": null,
      "outputs": [
        {
          "output_type": "stream",
          "text": [
            "201.06192982974676\n",
            "50.26548245743669\n",
            "inside\n"
          ],
          "name": "stdout"
        }
      ]
    },
    {
      "cell_type": "code",
      "metadata": {
        "colab": {
          "base_uri": "https://localhost:8080/"
        },
        "id": "8wyy3Lio86er",
        "outputId": "b613ad3e-8b28-4946-c658-56341d22841f"
      },
      "source": [
        "# Q 4\n",
        "class bank:\n",
        "\n",
        "\n",
        "  def __init__(self,balance):\n",
        "\n",
        "    self.balance=balance\n",
        "\n",
        "  def deposit(self):\n",
        "\n",
        "    return int(input(\"how much do u want input of money : \")) + self.balance\n",
        "\n",
        "  def withdraw (self):\n",
        "    \n",
        "    return  self.balance - int(input(\"how  much u want to out of money : \")) \n",
        "\n",
        "\n",
        "balance=bank(1000000)\n",
        "\n",
        "\n",
        "print(balance.deposit()) \n",
        "print(balance.withdraw()) \n",
        "\n"
      ],
      "execution_count": null,
      "outputs": [
        {
          "output_type": "stream",
          "text": [
            "what is votre input of money : 1587000\n",
            "2587000\n",
            "how u want to out of money : 15000\n",
            "985000\n"
          ],
          "name": "stdout"
        }
      ]
    }
  ]
}