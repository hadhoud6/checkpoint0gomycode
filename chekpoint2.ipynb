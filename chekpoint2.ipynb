{
  "nbformat": 4,
  "nbformat_minor": 0,
  "metadata": {
    "colab": {
      "name": "chekpoint2.ipynb",
      "provenance": []
    },
    "kernelspec": {
      "name": "python3",
      "display_name": "Python 3"
    },
    "language_info": {
      "name": "python"
    }
  },
  "cells": [
    {
      "cell_type": "code",
      "metadata": {
        "colab": {
          "base_uri": "https://localhost:8080/"
        },
        "id": "SMMk9jeQ7X4R",
        "outputId": "f60f1d31-ea38-497b-efbc-b3755a8af502"
      },
      "source": [
        "# Q 1 :\n",
        "\n",
        "\n",
        "mylist =[2,3,6]\n",
        "n= 1\n",
        "\n",
        "for i in mylist:\n",
        "\tn = n * i\n",
        "print(n)\n",
        "\n",
        "\n"
      ],
      "execution_count": 34,
      "outputs": [
        {
          "output_type": "stream",
          "text": [
            "36\n"
          ],
          "name": "stdout"
        }
      ]
    },
    {
      "cell_type": "code",
      "metadata": {
        "id": "xf3WeXMkBgjq",
        "colab": {
          "base_uri": "https://localhost:8080/"
        },
        "outputId": "c3f2eaa0-cddd-407e-b12a-51c5d57efb2a"
      },
      "source": [
        "# Q 3 :\n",
        "\n",
        "\n",
        "d1 = {'a': 100, 'b': 200, 'c':300}\n",
        "d2 = {'a': 300, 'b': 200, 'd':400}\n",
        "d3={}\n",
        "\n",
        "for key in d1:\n",
        "  if key in d2:\n",
        "      d3[key]=d1[key]+d2[key]\n",
        "d3[\"c\"]=300\n",
        "d3[\"d\"]=400      \n",
        "print(d3)\n",
        "  \n",
        "\n",
        "\n"
      ],
      "execution_count": 35,
      "outputs": [
        {
          "output_type": "stream",
          "text": [
            "{'a': 400, 'b': 400, 'c': 300, 'd': 400}\n"
          ],
          "name": "stdout"
        }
      ]
    },
    {
      "cell_type": "code",
      "metadata": {
        "colab": {
          "base_uri": "https://localhost:8080/"
        },
        "id": "m_sx4Y4SKgS4",
        "outputId": "ad021b73-c78d-4de6-9bc7-730cc01b425d"
      },
      "source": [
        "d1= [(2, 5), (1, 2), (4, 4), (2, 3), (2, 1)]\n",
        "def takesecond(elem):\n",
        "  return elem[1]\n",
        "d1.sort(key=takesecond)\n",
        "print(d1)\n"
      ],
      "execution_count": 36,
      "outputs": [
        {
          "output_type": "stream",
          "text": [
            "[(2, 1), (1, 2), (2, 3), (4, 4), (2, 5)]\n"
          ],
          "name": "stdout"
        }
      ]
    },
    {
      "cell_type": "code",
      "metadata": {
        "colab": {
          "base_uri": "https://localhost:8080/"
        },
        "id": "mVqophJoBQKk",
        "outputId": "45e36517-95ad-4cc0-ba83-7126cbb83c02"
      },
      "source": [
        "# Q 4:\n",
        "a=int(input(\"dooner votre n \"))\n",
        "dec1={}\n",
        "for i in range (1,a+1):\n",
        "  dec1[i]=i*i\n",
        "print(dec1)"
      ],
      "execution_count": 20,
      "outputs": [
        {
          "output_type": "stream",
          "text": [
            "dooner votre n 8\n",
            "{1: 1, 2: 4, 3: 9, 4: 16, 5: 25, 6: 36, 7: 49, 8: 64}\n"
          ],
          "name": "stdout"
        }
      ]
    },
    {
      "cell_type": "code",
      "metadata": {
        "colab": {
          "base_uri": "https://localhost:8080/"
        },
        "id": "qwA0zYRkG7L7",
        "outputId": "f4ea57a6-99da-41d8-de00-69f3841ad3a6"
      },
      "source": [
        "# Q 5 :\n",
        "\n",
        "tuple1= [('item1', '12.20'), ('item2', '15.10'), ('item3', '24.5')]\n",
        "\n",
        "for i in tuple1:\n",
        "  v = float(i[1])\n",
        "  print(v)\n",
        "tuple1.reverse()\n",
        "print(tuple1)\n",
        "\n",
        "\n",
        "\n",
        "    "
      ],
      "execution_count": 37,
      "outputs": [
        {
          "output_type": "stream",
          "text": [
            "12.2\n",
            "15.1\n",
            "24.5\n",
            "[('item3', '24.5'), ('item2', '15.10'), ('item1', '12.20')]\n"
          ],
          "name": "stdout"
        }
      ]
    }
  ]
}