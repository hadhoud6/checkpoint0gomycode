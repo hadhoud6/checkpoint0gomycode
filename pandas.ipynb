{
  "nbformat": 4,
  "nbformat_minor": 0,
  "metadata": {
    "colab": {
      "name": "pandas.ipynb",
      "provenance": []
    },
    "kernelspec": {
      "name": "python3",
      "display_name": "Python 3"
    },
    "language_info": {
      "name": "python"
    }
  },
  "cells": [
    {
      "cell_type": "code",
      "metadata": {
        "colab": {
          "base_uri": "https://localhost:8080/"
        },
        "id": "L72uL1AA048i",
        "outputId": "07945706-dc43-4d54-f602-706d18e0b2b6"
      },
      "source": [
        "import pandas as pd\n",
        "exam_data = {'name': ['Anastasia', 'Dima', 'Katherine', 'James', 'Emily', 'Michael', 'Matthew', 'Laura', 'Kevin', 'Jonas'],\n",
        "'score': [12.5, 9, 16.5, 'np.nan', 9, 20, 14.5, 'np.nan', 8, 19],\n",
        "'attempts': [1, 3, 2, 3, 2, 3, 1, 1, 2, 1],\n",
        "'qualify': ['yes', 'no', 'yes', 'no', 'no', 'yes', 'yes', 'no', 'no', 'yes']}\n",
        "labels = ['a', 'b', 'c', 'd', 'e', 'f', 'g', 'h', 'i', 'j']\n",
        "df=pd.DataFrame(exam_data, labels)\n",
        "# three first rows...\n",
        "h=df.head(3)\n",
        "print(h)\n",
        "  # remove  rows with Nan values\n",
        "h1=df.drop(['d', 'h'])\n",
        "\n",
        "    # extract name and score\n",
        "extract=h1.drop(['qualify','attempts'] , axis=1)\n",
        "  # add new row \n",
        "new_row={\"name\" : \"Suresh\", \"score\": 15.5, \"attempts\": 1, \"qualify\": \"yes\"}\n",
        "labels=\"K\"\n",
        "h=extract.append( new_row, labels)\n",
        "# remove attemps..\n",
        "remove1=h.drop(['attempts'] ,axis=1)\n",
        "# add new column\n",
        "new=remove1.loc[0:9,'score']\n",
        "list1=[]\n",
        "for i in new:\n",
        "  if 10 < i:\n",
        "    list1.append(1)\n",
        "  else:\n",
        "    list1.append(0)\n",
        "remove1[\"succes\"]=list1 \n",
        "remove1.to_csv('my_data.csv', index=False)\n",
        "print(remove1)   \n",
        "\n",
        "\n",
        "\n",
        "\n",
        "\n",
        "\n",
        "\n",
        "\n",
        "\n"
      ],
      "execution_count": 29,
      "outputs": [
        {
          "output_type": "stream",
          "text": [
            "        name score  attempts qualify\n",
            "a  Anastasia  12.5         1     yes\n",
            "b       Dima     9         3      no\n",
            "c  Katherine  16.5         2     yes\n",
            "this the final dataframe\n",
            "        name score qualify  succes\n",
            "0  Anastasia  12.5     NaN       1\n",
            "1       Dima     9     NaN       0\n",
            "2  Katherine  16.5     NaN       1\n",
            "3      Emily     9     NaN       0\n",
            "4    Michael    20     NaN       1\n",
            "5    Matthew  14.5     NaN       1\n",
            "6      Kevin     8     NaN       0\n",
            "7      Jonas    19     NaN       1\n",
            "8     Suresh  15.5     yes       1\n"
          ],
          "name": "stdout"
        }
      ]
    }
  ]
}