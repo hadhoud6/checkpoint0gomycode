{
  "nbformat": 4,
  "nbformat_minor": 0,
  "metadata": {
    "colab": {
      "name": "chechpoint1.ipynb",
      "provenance": []
    },
    "kernelspec": {
      "name": "python3",
      "display_name": "Python 3"
    },
    "language_info": {
      "name": "python"
    }
  },
  "cells": [
    {
      "cell_type": "code",
      "metadata": {
        "id": "gTeyZXO73Tyf"
      },
      "source": [
        "# ex 1\n",
        "a=input(\"dooner votre nom \")\n",
        "b=input(\"dooner votre prenom \")\n",
        "txt=b + \" \" +a\n",
        "print(txt)\n"
      ],
      "execution_count": null,
      "outputs": []
    },
    {
      "cell_type": "code",
      "metadata": {
        "id": "0_zN27_lA8mq"
      },
      "source": [
        "# ex 3 \n",
        "a=int(input(\"donner votre nombre\"))\n",
        "if a%2==0:\n",
        "  print(\"ce nombre est pair\")\n",
        "else:\n",
        "    print(\"ce nombre est non pair \")"
      ],
      "execution_count": null,
      "outputs": []
    },
    {
      "cell_type": "code",
      "metadata": {
        "id": "d_4D-fwHBBQa"
      },
      "source": [
        "# ex 4 \n",
        "for i in range(2000,3200+1):\n",
        "  if i % 7 ==0 and i % 5!= 0:\n",
        "    print (i)"
      ],
      "execution_count": null,
      "outputs": []
    },
    {
      "cell_type": "code",
      "metadata": {
        "id": "WrUXwyd4B60r"
      },
      "source": [
        "# ex 7 \n",
        "a=int(input(\"donner votre price\"))\n",
        "if a >=500:\n",
        "  print(a*50//100)\n",
        "if 200<a<500 :\n",
        "  print(a*30//100)\n",
        "if a<200:\n",
        "  print(a*10//100)"
      ],
      "execution_count": null,
      "outputs": []
    },
    {
      "cell_type": "code",
      "metadata": {
        "colab": {
          "base_uri": "https://localhost:8080/"
        },
        "id": "hhPpxKZyFmr8",
        "outputId": "4d247439-9e66-48f2-f415-623e27b0d8a7"
      },
      "source": [
        "# ex 6\n",
        "n=input(\"dooner votre  ph\")\n",
        "ch=\"\"\n",
        "for i in range (len(n)+1):\n",
        "  if i % 2==0:\n",
        "    ch=ch+n[i]\n",
        "print (ch) \n",
        "   \n",
        "  \n",
        "\n",
        " \n"
      ],
      "execution_count": 74,
      "outputs": [
        {
          "output_type": "stream",
          "text": [
            "hlowrd\n"
          ],
          "name": "stdout"
        }
      ]
    },
    {
      "cell_type": "code",
      "metadata": {
        "id": "RR7nKxW_drqM"
      },
      "source": [
        "# ex 5 \n",
        "\n",
        "a=int(input(\"donner votre n\"))\n",
        "prod=1\n",
        "for i in range (1,a+1):\n",
        "  prod=prod*i\n",
        "print(prod)"
      ],
      "execution_count": null,
      "outputs": []
    },
    {
      "cell_type": "code",
      "metadata": {
        "id": "WSueeW4FWeGF"
      },
      "source": [
        "#ex 2 \n",
        "a=int(input(\"dooner votre n \"))\n",
        "n1=int(a)\n",
        "n2=int(a*10+a)\n",
        "n3=int(a*100+a*10+a)\n",
        "s=n1+n2+n3\n",
        "print(s)"
      ],
      "execution_count": null,
      "outputs": []
    }
  ]
}
