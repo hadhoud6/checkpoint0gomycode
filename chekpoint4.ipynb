{
  "nbformat": 4,
  "nbformat_minor": 0,
  "metadata": {
    "colab": {
      "name": "chekpoint4.ipynb",
      "provenance": []
    },
    "kernelspec": {
      "name": "python3",
      "display_name": "Python 3"
    },
    "language_info": {
      "name": "python"
    }
  },
  "cells": [
    {
      "cell_type": "code",
      "metadata": {
        "id": "UFuwMNQRkJQl",
        "colab": {
          "base_uri": "https://localhost:8080/"
        },
        "outputId": "4e623a54-4621-4682-cebe-f4842b1d0285"
      },
      "source": [
        "# Q 1\n",
        "class point3D:\n",
        "  def __init__(self,x, y ,z):\n",
        "    self.x=x\n",
        "    self.y=y\n",
        "    self.z=z  \n",
        "my_point=point3D(1,2,3)\n",
        "my_point.x,my_point.y,my_point.z\n",
        "\n"
      ],
      "execution_count": null,
      "outputs": [
        {
          "output_type": "execute_result",
          "data": {
            "text/plain": [
              "(1, 2, 3)"
            ]
          },
          "metadata": {
            "tags": []
          },
          "execution_count": 21
        }
      ]
    },
    {
      "cell_type": "code",
      "metadata": {
        "colab": {
          "base_uri": "https://localhost:8080/"
        },
        "id": "SPPUviIW4jsa",
        "outputId": "56c798a1-5f00-4ad6-db98-4ca6570b11e6"
      },
      "source": [
        "# Q 2\n",
        " class Rectangle:\n",
        "   def __init__(self,l,w):\n",
        "\n",
        "      self.l=l\n",
        "      self.w=w\n",
        "   def area(self):\n",
        "\n",
        "     return self.l*self.w\n",
        "     \n",
        "\n",
        "   def  perimeter(self):\n",
        "\n",
        "     return 2*(self.l+self.w)\n",
        "\n",
        "\n",
        "my_rectangle=Rectangle(3,4)\n",
        "my_rectangle.l,my_rectangle.w\n",
        "print(\" the area is expected to be\",my_rectangle.area()),print(\"and perimeter\",my_rectangle.perimeter())\n",
        "\n",
        "     \n",
        "\n"
      ],
      "execution_count": null,
      "outputs": [
        {
          "output_type": "stream",
          "text": [
            " the area is expected to be 12\n",
            "and perimeter 14\n"
          ],
          "name": "stdout"
        },
        {
          "output_type": "execute_result",
          "data": {
            "text/plain": [
              "(None, None)"
            ]
          },
          "metadata": {
            "tags": []
          },
          "execution_count": 20
        }
      ]
    },
    {
      "cell_type": "code",
      "metadata": {
        "id": "21q6dZuy1RrN",
        "colab": {
          "base_uri": "https://localhost:8080/"
        },
        "outputId": "0756edca-b823-4437-ba39-6795a242438b"
      },
      "source": [
        "# Q 3\n",
        "class Circle:\n",
        "\n",
        "  def __init__(self,o,r,circle_x, circle_y, x, y):\n",
        "\n",
        "    self.o=o\n",
        "    self.r=r\n",
        "    self.circle_x=circle_x\n",
        "    self.circle_y=circle_y\n",
        "    self.x=x\n",
        "    self.y=x\n",
        "  def area(self):\n",
        "\n",
        "\n",
        "    return (3.14*self.r**2)\n",
        "\n",
        "\n",
        "  def   perimeter(self):\n",
        "\n",
        "\n",
        "\n",
        "    return (2*3.14*self.r)\n",
        "\n",
        "\n",
        "\n",
        "  def  isinside(self):\n",
        "\n",
        "\n",
        "    if ((self.x - self.circle_x) * (self.x - self.circle_x) +(self.y - self.circle_y) * (self.y - self.circle_y) <= self.r * self.r):\n",
        "      \n",
        "      print(\"inside\")\n",
        "\n",
        "    else:\n",
        "\n",
        "      print(\"out\")\n",
        "\n",
        "calc=Circle(5,2,0,5,0,5)\n",
        "calc.o,calc.r      \n",
        "print(calc.area())\n",
        "print(calc.perimeter())\n",
        "print(calc.isinside())     \n",
        "\n",
        "\n"
      ],
      "execution_count": 17,
      "outputs": [
        {
          "output_type": "stream",
          "text": [
            "12.56\n",
            "12.56\n",
            "out\n",
            "None\n"
          ],
          "name": "stdout"
        }
      ]
    },
    {
      "cell_type": "code",
      "metadata": {
        "colab": {
          "base_uri": "https://localhost:8080/"
        },
        "id": "8wyy3Lio86er",
        "outputId": "b34b1606-17a7-4bbf-8be7-d51a17a8fcff"
      },
      "source": [
        "# Q 4\n",
        "class bank:\n",
        "\n",
        "\n",
        "  def __init__(self,b):\n",
        "\n",
        "    self.b=b\n",
        "\n",
        "  def deposit(self):\n",
        "\n",
        "    return self.b+(self.b * float(input(\" rate of interest \")) * int(input(\"tenure in years\")) / 100)\n",
        "\n",
        "  def withdraw (self):\n",
        "    \n",
        "    return int(input(\"Annual withdrawal\")) / self.b   \n",
        "\n",
        "\n",
        "balance=bank(1000000)\n",
        "\n",
        "\n",
        "print(balance.deposit()) \n",
        "print(\"{:.0%}\".format(balance.withdraw()) )\n",
        "\n"
      ],
      "execution_count": null,
      "outputs": [
        {
          "output_type": "stream",
          "text": [
            " rate of interest 0.10\n",
            "tenure in years5\n",
            "1005000.0\n",
            "Annual withdrawal30000\n",
            "3%\n"
          ],
          "name": "stdout"
        }
      ]
    }
  ]
}